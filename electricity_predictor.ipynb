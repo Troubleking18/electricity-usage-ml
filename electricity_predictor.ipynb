{
  "nbformat": 4,
  "nbformat_minor": 0,
  "metadata": {
    "colab": {
      "provenance": []
    },
    "kernelspec": {
      "name": "python3",
      "display_name": "Python 3"
    },
    "language_info": {
      "name": "python"
    }
  },
  "cells": [
    {
      "cell_type": "code",
      "execution_count": null,
      "metadata": {
        "id": "1eHFkpzdU8j7"
      },
      "outputs": [],
      "source": []
    },
    {
      "cell_type": "code",
      "source": [
        "import pandas as pd\n",
        "import numpy as np\n",
        "import matplotlib.pyplot as plt\n",
        "from sklearn.linear_model import LinearRegression\n",
        "from sklearn.metrics import mean_absolute_error\n",
        "\n",
        "# Generate synthetic electricity data\n",
        "np.random.seed(42)\n",
        "days = np.arange(1, 31)\n",
        "usage = 50 + 10 * np.sin(0.2 * days) + np.random.normal(0, 3, size=30)\n",
        "\n",
        "# Create dataset\n",
        "df = pd.DataFrame({'Day': days, 'Usage': usage})\n",
        "\n",
        "# Train model\n",
        "X = df[['Day']]\n",
        "y = df['Usage']\n",
        "model = LinearRegression()\n",
        "model.fit(X, y)\n",
        "\n",
        "# Predict\n",
        "df['Predicted'] = model.predict(X)\n",
        "\n",
        "# Plot\n",
        "plt.figure(figsize=(10, 5))\n",
        "plt.plot(df['Day'], df['Usage'], label='Actual Usage', marker='o')\n",
        "plt.plot(df['Day'], df['Predicted'], label='Predicted Usage', linestyle='--')\n",
        "plt.title('Electricity Usage Prediction')\n",
        "plt.xlabel('Day')\n",
        "plt.ylabel('Usage (kWh)')\n",
        "plt.legend()\n",
        "plt.grid(True)\n",
        "plt.savefig(\"result.png\")\n",
        "plt.show()\n",
        "\n",
        "# Print MAE\n",
        "print(\"MAE:\", mean_absolute_error(df['Usage'], df['Predicted']))\n"
      ],
      "metadata": {
        "id": "oLrpfeSbVA2p"
      },
      "execution_count": null,
      "outputs": []
    }
  ]
}